{
  "nbformat": 4,
  "nbformat_minor": 0,
  "metadata": {
    "kernelspec": {
      "display_name": "Python 3",
      "language": "python",
      "name": "python3"
    },
    "language_info": {
      "codemirror_mode": {
        "name": "ipython",
        "version": 3
      },
      "file_extension": ".py",
      "mimetype": "text/x-python",
      "name": "python",
      "nbconvert_exporter": "python",
      "pygments_lexer": "ipython3",
      "version": "3.5.2"
    },
    "colab": {
      "name": "Copy of int_exer_2021.ipynb",
      "provenance": [],
      "include_colab_link": true
    }
  },
  "cells": [
    {
      "cell_type": "markdown",
      "metadata": {
        "id": "view-in-github",
        "colab_type": "text"
      },
      "source": [
        "<a href=\"https://colab.research.google.com/github/gerrit-blacquiere/teaching/blob/main/Copy_of_int_exer_2021.ipynb\" target=\"_parent\"><img src=\"https://colab.research.google.com/assets/colab-badge.svg\" alt=\"Open In Colab\"/></a>"
      ]
    },
    {
      "cell_type": "markdown",
      "metadata": {
        "deletable": true,
        "editable": true,
        "id": "lgK9BHJihV5Q"
      },
      "source": [
        "# Integrated exercise"
      ]
    },
    {
      "cell_type": "markdown",
      "metadata": {
        "deletable": true,
        "editable": true,
        "id": "UK70inw9hV5S"
      },
      "source": [
        "# Introduction\n",
        "blabla"
      ]
    },
    {
      "cell_type": "markdown",
      "metadata": {
        "deletable": true,
        "editable": true,
        "id": "-Oz9MFyWhV5T"
      },
      "source": [
        "blabla"
      ]
    },
    {
      "cell_type": "markdown",
      "metadata": {
        "deletable": true,
        "editable": true,
        "id": "8CfS11FihV5T"
      },
      "source": [
        "# Python exercise\n",
        "In the next cells the file with the logs is read and the logs are displayed in a figure."
      ]
    },
    {
      "cell_type": "markdown",
      "metadata": {
        "deletable": true,
        "editable": true,
        "id": "AzvdvGC8hV5U"
      },
      "source": [
        "First import some packages"
      ]
    },
    {
      "cell_type": "code",
      "metadata": {
        "deletable": true,
        "editable": true,
        "id": "pSHH5NhBhV5U"
      },
      "source": [
        "#import scipy as sp\n",
        "import scipy as sp\n",
        "import numpy as np\n",
        "import matplotlib.pyplot as plt\n",
        "from scipy.io import loadmat"
      ],
      "execution_count": 28,
      "outputs": []
    },
    {
      "cell_type": "markdown",
      "metadata": {
        "deletable": true,
        "editable": true,
        "id": "-z_gs38HhV5V"
      },
      "source": [
        "Now load the file with the logs ..."
      ]
    },
    {
      "cell_type": "code",
      "metadata": {
        "deletable": true,
        "editable": true,
        "colab": {
          "base_uri": "https://localhost:8080/"
        },
        "id": "YbSWb0WqhV5W",
        "outputId": "49e349ef-dbc6-4ee7-bba6-1e16b68cd7f3"
      },
      "source": [
        "!rm -rf /content/teaching\n",
        "!git clone https://github.com/gerrit-blacquiere/teaching.git\n",
        "!ls -all /content/teaching\n",
        "mat = loadmat('/content/teaching/Logs_2.mat')"
      ],
      "execution_count": 59,
      "outputs": [
        {
          "output_type": "stream",
          "name": "stdout",
          "text": [
            "Cloning into 'teaching'...\n",
            "remote: Enumerating objects: 10, done.\u001b[K\n",
            "remote: Counting objects: 100% (10/10), done.\u001b[K\n",
            "remote: Compressing objects: 100% (9/9), done.\u001b[K\n",
            "remote: Total 10 (delta 0), reused 0 (delta 0), pack-reused 0\u001b[K\n",
            "Unpacking objects: 100% (10/10), done.\n",
            "total 180\n",
            "drwxr-xr-x 3 root root  4096 Sep 27 10:12 .\n",
            "drwxr-xr-x 1 root root  4096 Sep 27 10:12 ..\n",
            "drwxr-xr-x 8 root root  4096 Sep 27 10:12 .git\n",
            "-rw-r--r-- 1 root root 98117 Sep 27 10:12 K1217dataset.mat\n",
            "-rw-r--r-- 1 root root 31305 Sep 27 10:12 Logs_2.mat\n",
            "-rw-r--r-- 1 root root 37677 Sep 27 10:12 logs.mat\n"
          ]
        }
      ]
    },
    {
      "cell_type": "markdown",
      "metadata": {
        "deletable": true,
        "editable": true,
        "id": "WqMI6K60hV5X"
      },
      "source": [
        "... and show its contents"
      ]
    },
    {
      "cell_type": "code",
      "metadata": {
        "deletable": true,
        "editable": true,
        "id": "wXcLEutfhV5X",
        "colab": {
          "base_uri": "https://localhost:8080/"
        },
        "outputId": "f2042f97-25f3-45ad-e334-952b0d58e076"
      },
      "source": [
        "mat.keys()"
      ],
      "execution_count": 60,
      "outputs": [
        {
          "output_type": "execute_result",
          "data": {
            "text/plain": [
              "dict_keys(['__header__', '__version__', '__globals__', 'log_dtp', 'log_dts', 'log_gr', 'log_rho', 'z'])"
            ]
          },
          "metadata": {},
          "execution_count": 60
        }
      ]
    },
    {
      "cell_type": "markdown",
      "metadata": {
        "deletable": true,
        "editable": true,
        "id": "lG6oQWkMhV5Y"
      },
      "source": [
        "... and put the data in information of 'dataset' in matrix \"logs\""
      ]
    },
    {
      "cell_type": "code",
      "metadata": {
        "deletable": true,
        "editable": true,
        "id": "R8IxAt0jhV5Y"
      },
      "source": [
        "log_z = np.transpose(mat[\"z\"])\n",
        "log_gr = mat[\"log_gr\"]\n",
        "log_rho = mat[\"log_rho\"]\n",
        "log_dtp = mat[\"log_dtp\"]\n",
        "log_dts = mat[\"log_dts\"]"
      ],
      "execution_count": 61,
      "outputs": []
    },
    {
      "cell_type": "markdown",
      "metadata": {
        "deletable": true,
        "editable": true,
        "id": "_0Q7wy3ShV5a"
      },
      "source": [
        "depth [m]:"
      ]
    },
    {
      "cell_type": "code",
      "metadata": {
        "deletable": true,
        "editable": true,
        "id": "U4qA3uOphV5a"
      },
      "source": [
        "depth=log_z"
      ],
      "execution_count": 62,
      "outputs": []
    },
    {
      "cell_type": "markdown",
      "metadata": {
        "deletable": true,
        "editable": true,
        "id": "KCeTb7phhV5a"
      },
      "source": [
        "gamma-ray log [API]"
      ]
    },
    {
      "cell_type": "code",
      "metadata": {
        "deletable": true,
        "editable": true,
        "id": "4Y3O2frLhV5b"
      },
      "source": [
        "gamma_ray=log_gr"
      ],
      "execution_count": 63,
      "outputs": []
    },
    {
      "cell_type": "markdown",
      "metadata": {
        "deletable": true,
        "editable": true,
        "id": "pYwME7PxhV5b"
      },
      "source": [
        "The third column contains the density log [g/cm$^3$]"
      ]
    },
    {
      "cell_type": "code",
      "metadata": {
        "collapsed": true,
        "deletable": true,
        "editable": true,
        "id": "CWZ_ImGmhV5b"
      },
      "source": [
        "density=log_rho"
      ],
      "execution_count": 68,
      "outputs": []
    },
    {
      "cell_type": "markdown",
      "metadata": {
        "deletable": true,
        "editable": true,
        "id": "5UWU4fGRhV5c"
      },
      "source": [
        "compressional slowness log, $\\Delta$t compressional [$\\mu$/ft]"
      ]
    },
    {
      "cell_type": "code",
      "metadata": {
        "collapsed": true,
        "deletable": true,
        "editable": true,
        "id": "SanLmzsHhV5d"
      },
      "source": [
        "dt_compressional = log_dtp"
      ],
      "execution_count": 65,
      "outputs": []
    },
    {
      "cell_type": "markdown",
      "metadata": {
        "deletable": true,
        "editable": true,
        "id": "uyaPVwY4hV5d"
      },
      "source": [
        "shear slowness log, $\\Delta$t shear [$\\mu$/ft]"
      ]
    },
    {
      "cell_type": "code",
      "metadata": {
        "deletable": true,
        "editable": true,
        "id": "3Xbyg_YghV5d"
      },
      "source": [
        "dt_shear = log_dts"
      ],
      "execution_count": 66,
      "outputs": []
    },
    {
      "cell_type": "markdown",
      "metadata": {
        "deletable": true,
        "editable": true,
        "id": "K3A2NCHJhV5d"
      },
      "source": [
        "Make a figure containing all the logs that were acquired"
      ]
    },
    {
      "cell_type": "code",
      "metadata": {
        "deletable": true,
        "editable": true,
        "id": "5-c3PrpMhV5d",
        "colab": {
          "base_uri": "https://localhost:8080/",
          "height": 521
        },
        "outputId": "b068ec61-2b71-448c-88e4-36c8de946444"
      },
      "source": [
        "# define minimum and maximum depth for plotting\n",
        "minimum_depth = 1\n",
        "maximum_depth = 600\n",
        "\n",
        "# define the linewidth\n",
        "lw = 0.4\n",
        "\n",
        "# define the figure size\n",
        "plt.rcParams['figure.figsize'] = [14, 8]\n",
        "\n",
        "# make a figure consisting of 6 subplots that share the depth axis (y)\n",
        "f, (ax1, ax2, ax3, ax4) = plt.subplots(1, 4, sharey=True)\n",
        "ax1.set_ylim(maximum_depth, minimum_depth)\n",
        "\n",
        "# plot the 6 individual borehole logs\n",
        "ax1.plot(gamma_ray,depth,linewidth=lw, color = \"green\")\n",
        "ax1.set_title('Gamma ray')\n",
        "ax1.set_xlabel('[API]')\n",
        "ax4.set_xlim(0, 150)\n",
        "ax1.set_ylabel('depth [m]')\n",
        "\n",
        "ax2.plot(density,depth,linewidth=lw, color = \"blue\")\n",
        "ax2.set_title('Density')\n",
        "ax2.set_xlim(0, 2)\n",
        "ax2.set_xlabel('[g/cm$^3$]')\n",
        "\n",
        "ax3.plot(dt_compressional,depth,linewidth=lw, color = \"green\")\n",
        "ax3.set_title('Sonic, $\\Delta$t comp.')\n",
        "ax3.set_xlim(0, 200)\n",
        "ax3.set_xlabel('[$\\mu$s/ft]')\n",
        "\n",
        "ax4.plot(dt_shear,depth,linewidth=lw, color = \"blue\")\n",
        "ax4.set_title('Sonic, $\\Delta$t shear')\n",
        "ax4.set_xlim(0, 400)\n",
        "ax4.set_xlabel('[$\\mu$s/ft]')\n",
        "\n",
        "plt.show()"
      ],
      "execution_count": 69,
      "outputs": [
        {
          "output_type": "display_data",
          "data": {
            "image/png": "[encoded data removed]",
            "text/plain": [
              "<Figure size 1008x576 with 4 Axes>"
            ]
          },
          "metadata": {
            "needs_background": "light"
          }
        }
      ]
    },
    {
      "cell_type": "markdown",
      "metadata": {
        "deletable": true,
        "editable": true,
        "id": "m8X2uEO9hV5e"
      },
      "source": [
        "# Purpose of the practical\n",
        "\n",
        "There are three purposes of ths practical:\n",
        "\n",
        "1) Make an interpretation of the lithologies present between 3980 m and 4285 m depth. To do this, use the knowledge and information provided during the lectures. The combination of gamma ray, density, porosity, resistivity and possibly sonic help to narrow done the rock types. You may experience that sometimes you cannot narrow it down to 1 specific rock type. That is OK, in the report it is good to indicate your uncertainties. You may also experience that some of the 'rules-of-thumb' don't seem to hold in this case: no worries, welcome to the 'real world' of subsurface characterization.\n",
        "\n",
        "2) Make from the logging data a synthetic seismogram (calculate reflectivity as a function of depth, i.e., after time-to-depth conversion) using the logs. You will see that you produce a very high resolution reflectivity log, which you could 'smooth' to produce a reflectivity log with the same ‘depth resolution’ as seismic data. Where in the seismic dataset would you expect to see the largest reflectivity? Which layer boundary is that? And do you also see layer boundaries in the logs that will be hardly visible in seismic data?\n",
        "\n",
        "3) Compare your findings of lithology with the findings published for K12-17 on https://www.nlog.nl/keuzelijst-boringen. Go to \"K12-17\" and select the link \"lithostratigrafie\". Did you find similar results as the ones published online, or not? Discuss and compare your findings in the report you write."
      ]
    },
    {
      "cell_type": "markdown",
      "metadata": {
        "deletable": true,
        "editable": true,
        "id": "XuLRdDCdhV5m"
      },
      "source": [
        "# Way of working\n",
        "1. Make groups of 2 preferably, the occasional group of 3 is allowed.\n",
        "2. Do log interpretation / subsurface characterization, addressing the 3 purposes of the practical.\n",
        "3. Make a 2-3 page report (excluding figures).\n",
        "\n",
        "The report should contain the following sections:\n",
        "1. Abstract (max. half page) containing Problem (why did you do this), Action (what did you doto tackle the problem) and Results (short summary of the most important findings, conclusions). The abstract is typically written last.\n",
        "2. Methods: info on what logs you used, which formula’s you used to calculate the different properties\n",
        "3. Results: description and illustrations (figures) of your results (interpretation + calculations)\n",
        "4. Discussion: discussion of your results, highlighting why you made certain choices, what your uncertainties are in the interpretation, and their implications\n",
        "5. Conclusions: where you state, point-by-point, the most important conclusions/findings. Conclusions should not contain anything new, all information should have been mentioned in one of the other sections.\n",
        "\n",
        "The report should be written in English. If you don’t know a specific word/description it is OK try to describe it. The quality of the English won't be judged, only the quality of the work itself.\n",
        "\n",
        "You have 4 hours of practicals to finish this. So you should be able to finish most of the work by today. Report needs to be emailed to me by Friday the 17th, g.blacquiere@tudelft.nl."
      ]
    }
  ]
}